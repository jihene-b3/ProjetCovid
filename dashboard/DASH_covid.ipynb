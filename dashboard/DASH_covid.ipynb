{
  "nbformat": 4,
  "nbformat_minor": 0,
  "metadata": {
    "colab": {
      "name": "DASH_covid.ipynb",
      "provenance": [],
      "collapsed_sections": [],
      "toc_visible": true
    },
    "kernelspec": {
      "name": "python3",
      "display_name": "Python 3"
    }
  },
  "cells": [
    {
      "cell_type": "markdown",
      "metadata": {
        "id": "Cx62f5K4iM9p"
      },
      "source": [
        "# Setup"
      ]
    },
    {
      "cell_type": "code",
      "metadata": {
        "id": "i6kp2WyDiqA6"
      },
      "source": [
        "%%sh\n",
        "pip install -q dash\n",
        "pip install -q dash_core_components\n",
        "pip install -q dash_html_components\n",
        "pip install -q dash_table"
      ],
      "execution_count": 1,
      "outputs": []
    },
    {
      "cell_type": "code",
      "metadata": {
        "id": "uuHS64aNk6oK",
        "colab": {
          "base_uri": "https://localhost:8080/"
        },
        "outputId": "abd55049-e431-4725-da45-5f640079757b"
      },
      "source": [
        "%%sh\n",
        "# get ngrok\n",
        "curl -O https://bin.equinox.io/c/4VmDzA7iaHb/ngrok-stable-linux-amd64.zip\n",
        "unzip ngrok-stable-linux-amd64.zip"
      ],
      "execution_count": 2,
      "outputs": [
        {
          "output_type": "stream",
          "text": [
            "Archive:  ngrok-stable-linux-amd64.zip\n",
            "  inflating: ngrok                   \n"
          ],
          "name": "stdout"
        },
        {
          "output_type": "stream",
          "text": [
            "  % Total    % Received % Xferd  Average Speed   Time    Time     Time  Current\n",
            "                                 Dload  Upload   Total   Spent    Left  Speed\n",
            "\r  0     0    0     0    0     0      0      0 --:--:-- --:--:-- --:--:--     0\r 78 13.1M   78 10.3M    0     0  21.9M      0 --:--:-- --:--:-- --:--:-- 21.9M\r100 13.1M  100 13.1M    0     0  24.8M      0 --:--:-- --:--:-- --:--:-- 24.8M\n"
          ],
          "name": "stderr"
        }
      ]
    },
    {
      "cell_type": "markdown",
      "metadata": {
        "id": "QVb3TaoVtFom"
      },
      "source": [
        "# Dash"
      ]
    },
    {
      "cell_type": "markdown",
      "metadata": {
        "id": "RbWZbDmaCb1M"
      },
      "source": [
        "+ Ne pas oublier de charger le .css dans /assets\n",
        "+ Rajouter des commentaires dans le script.\n",
        "+ Essayer d'ajouter d'autres graphiques dans le layout\n",
        "+ Charger les données covid avec pycoa + pd.dataframe"
      ]
    },
    {
      "cell_type": "markdown",
      "metadata": {
        "id": "tzT6LN6aCoRY"
      },
      "source": [
        "When it comes to Plotly, the dashboard functionality is handled by the complementary Dash library. In the code, a global app object is created, which is then accessed through properties such as app.layout and app.callback. Writing apps in Dash is as declarative as creating figures in Plotly, with the app layout composed by nested dictionaries which end up resembling HTML in organisation. Interactivity is handled through annotated callback functions, which specify objects as Inputs and Outputs e.g. when a button is pressed ( Input ) a figure output is changed to become logarithmic ( Output ) . The model is easy to understand and to start working with."
      ]
    },
    {
      "cell_type": "code",
      "metadata": {
        "id": "jeFVN3KeY_wh"
      },
      "source": [
        "# Données relatives aux livraisons de vaccins contre la COVID-19 : https://www.data.gouv.fr/fr/datasets/donnees-relatives-aux-livraisons-de-vaccins-contre-la-covid-19/#_"
      ],
      "execution_count": 3,
      "outputs": []
    },
    {
      "cell_type": "code",
      "metadata": {
        "id": "TPwPq0JLtMVQ",
        "colab": {
          "base_uri": "https://localhost:8080/"
        },
        "outputId": "c61905c7-60f8-4c1d-fc0f-2d5167cc0f23"
      },
      "source": [
        "%%writefile dash_app.py\n",
        " \n",
        "import dash\n",
        "import pandas as pd\n",
        "import dash_core_components as dcc\n",
        "import dash_html_components as html\n",
        "from dash.dependencies import Input, Output\n",
        "import plotly.express as px\n",
        " \n",
        "\n",
        "# Import datas\n",
        "\n",
        "df = pd.read_csv('df_vacc.csv', index_col=0, parse_dates=True)\n",
        "df.index = pd.to_datetime(df['date'])\n",
        " \n",
        "\n",
        "# Figures\n",
        " \n",
        "import plotly.graph_objects as go \n",
        "fig = px.line(df, x=df.index, \n",
        "              y= df[\"weekly\"],\n",
        "              color='codelocation',\n",
        "              template='plotly_dark').update_layout(\n",
        "                  {'plot_bgcolor': 'rgba(0, 0, 0, 0)',\n",
        "                   'paper_bgcolor': 'rgba(0, 0, 0, 0)'})\n",
        " \n",
        "config = dict({'scrollZoom': True})\n",
        "              \n",
        " \n",
        "# Creates a list of dictionaries, which have the keys 'label' and 'value'.\n",
        "def get_options(list_location):\n",
        "  dict_list = []\n",
        "  for i in list_location:\n",
        "    dict_list.append({'label': i, 'value': i})\n",
        "  return dict_list\n",
        "\n",
        "# options=[{'label': 'Haute-Garonne', 'value': '31'},{'label': 'Tarn', 'value': '81'},{'label': 'Aveyron', 'value': '12'}]\n",
        "\n",
        "\n",
        " \n",
        "app = dash.Dash(__name__)\n",
        " \n",
        "app.layout = html.Div(\n",
        "    children=[\n",
        "        html.Div(className='row',\n",
        "                 children=[\n",
        "                    html.Div(className='four columns div-user-controls',\n",
        "                             children=[\n",
        "                                 html.H2('COVID VACCINES TRACKER FRANCE'),\n",
        "                                 html.P('Tracking vaccination rates by French department'),\n",
        "                                 html.P('Pick one or more location from the dropdown below.'),\n",
        "                                 html.Div(className='div-for-dropdown',\n",
        "                                          children=[\n",
        "                                                    dcc.Dropdown(id='locselector',\n",
        "                                                                 options=get_options(df['codelocation'].unique()),\n",
        "                                                                 multi=True,\n",
        "                                                                 value=[df['codelocation'].sort_values()[0]],\n",
        "                                                                 style={'backgroundColor': '#1E1E1E'},\n",
        "                                                                 className='locselector')\n",
        "                                                    ],\n",
        "                                          style={'color': '#1E1E1E'}),\n",
        "\n",
        "                                 ]\n",
        "                             ),\n",
        "                    html.Div(className='eight columns div-for-charts bg-grey',\n",
        "                             children=[\n",
        "    dcc.Graph(id='ts_weekly',\n",
        "              config={'displayModeBar': False},\n",
        "              animate=True),\n",
        "    dcc.Graph(id='ts_daily',\n",
        "              config={'displayModeBar': False},\n",
        "              animate=True)]),\n",
        "                    html.Div(className='div-for-charts', \n",
        "                             children=[\n",
        "    html.Iframe(id='map', srcDoc =open('vacc_daily_map2D.html','r').read(), width='100%', height='600' ),\n",
        "    dcc.Graph(id='total_vacc',\n",
        "              config={'displayModeBar': False},\n",
        "              animate=True) ])\n",
        "                           \n",
        "                    \n",
        "                    ])\n",
        "                              ])\n",
        " \n",
        "# Callback for timeseries number of vaccinations per week\n",
        "@app.callback(Output('ts_weekly', 'figure'),\n",
        "              [Input('locselector', 'value')])\n",
        "\n",
        "def update_ts_week(selected_dropdown_value):\n",
        "    trace1 = []\n",
        "    df_sub = df\n",
        "    for codelocation in selected_dropdown_value:\n",
        "        trace1.append(go.Scatter(x=df_sub[df_sub['codelocation'] == codelocation].index,\n",
        "                                 y=df_sub[df_sub['codelocation'] == codelocation]['weekly'],\n",
        "                                 mode='lines',\n",
        "                                 opacity=1,\n",
        "                                 name= codelocation,\n",
        "                                 textposition='bottom center'))\n",
        "    traces = [trace1]\n",
        "    data = [val for sublist in traces for val in sublist]\n",
        "    figure = {'data': data,\n",
        "              'layout': go.Layout(\n",
        "                  colorway=[\"#5E0DAC\", '#FF4F00', '#375CB1', '#FF7400', '#FFF400', '#FF0056'],\n",
        "                  template='plotly_dark',\n",
        "                  paper_bgcolor='rgba(0, 0, 0, 0)',\n",
        "                  plot_bgcolor='rgba(0, 0, 0, 0)',\n",
        "                  margin={'b': 15},\n",
        "                  hovermode='x',\n",
        "                  autosize=True,\n",
        "                  title={'text': 'Number of vaccinations per week', 'font': {'color': 'white'}, 'x': 0.5},\n",
        "                  xaxis={'range': [df_sub.index.min(), df_sub.index.max()]},\n",
        "              ),\n",
        " \n",
        "              }\n",
        " \n",
        "    return figure\n",
        " \n",
        " \n",
        "# Callback for timeseries number of vaccinations per day\n",
        " \n",
        "@app.callback(Output('ts_daily', 'figure'),\n",
        "              [Input('locselector', 'value')])\n",
        "\n",
        "def update_ts_daily(selected_dropdown_value):\n",
        "    #Draw traces of the feature 'daily' based one the currently selected location\n",
        "    trace2 = []\n",
        "    df_sub = df\n",
        "    # Draw and append traces for each location\n",
        "    for codelocation in selected_dropdown_value:\n",
        "        trace2.append(go.Scatter(x=df_sub[df_sub['codelocation'] == codelocation].index,\n",
        "                                 y=df_sub[df_sub['codelocation'] == codelocation]['daily'],\n",
        "                                 mode='lines',\n",
        "                                 opacity=1,\n",
        "                                 name=codelocation,\n",
        "                                 textposition='bottom center'))\n",
        "    traces = [trace2]\n",
        "    data = [val for sublist in traces for val in sublist]\n",
        " \n",
        "    # Define Figure\n",
        " \n",
        "    figure = {'data': data,\n",
        "              'layout': go.Layout(\n",
        "                  colorway=[\"#5E0DAC\", '#FF4F00', '#375CB1', '#FF7400', '#FFF400', '#FF0056'],\n",
        "                  template='plotly_dark',\n",
        "                  paper_bgcolor='rgba(0, 0, 0, 0)',\n",
        "                  plot_bgcolor='rgba(0, 0, 0, 0)',\n",
        "                  margin={'t': 50},\n",
        "                  height=500,\n",
        "                  hovermode='x',\n",
        "                  autosize=True,\n",
        "                  title={'text': 'Number of vaccinations per day', 'font': {'color': 'white'}, 'x': 0.5},\n",
        "                  xaxis={'range': [df_sub.index.min(), df_sub.index.max()]},\n",
        "              ),\n",
        "              }\n",
        " \n",
        "    return figure\n",
        "\n",
        "\n",
        "# Callback for total number of vaccinations\n",
        " \n",
        "@app.callback(Output('total_vacc', 'figure'),\n",
        "              [Input('locselector', 'value')])\n",
        "\n",
        "def update_total_vacc(selected_dropdown_value):\n",
        "\n",
        "    #Draw traces of the feature 'cumul' based one the currently selected location\n",
        "    trace3 = []\n",
        "    df_sub = df\n",
        "    # Draw and append traces for each location\n",
        "    for codelocation in selected_dropdown_value:\n",
        "        trace3.append(go.Scatter(x=df_sub[df_sub['codelocation'] == codelocation].index,\n",
        "                                 y=df_sub[df_sub['codelocation'] == codelocation]['tot_vacc'],\n",
        "                                 mode='lines',\n",
        "                                 opacity=1,\n",
        "                                 name=codelocation,\n",
        "                                 textposition='bottom center'))\n",
        "    traces = [trace3]\n",
        "    data = [val for sublist in traces for val in sublist]\n",
        " \n",
        "    # Define Figure\n",
        " \n",
        "    figure = {'data': data,\n",
        "              'layout': go.Layout(\n",
        "                  colorway=[\"#5E0DAC\", '#FF4F00', '#375CB1', '#FF7400', '#FFF400', '#FF0056'],\n",
        "                  template='plotly_dark',\n",
        "                  paper_bgcolor='rgba(0, 0, 0, 0)',\n",
        "                  plot_bgcolor='rgba(0, 0, 0, 0)',\n",
        "                  margin={'t': 50},\n",
        "                  height=500,\n",
        "                  hovermode='x',\n",
        "                  autosize=True,\n",
        "                  title={'text': 'Total number of vaccinations', 'font': {'color': 'white'}, 'x': 0.5},\n",
        "                  xaxis={'range': [df_sub.index.min(), df_sub.index.max()]},\n",
        "              ),\n",
        "              }\n",
        " \n",
        "    return figure\n",
        " \n",
        " \n",
        " \n",
        " \n",
        "app.run_server(debug=True)"
      ],
      "execution_count": 28,
      "outputs": [
        {
          "output_type": "stream",
          "text": [
            "Overwriting dash_app.py\n"
          ],
          "name": "stdout"
        }
      ]
    },
    {
      "cell_type": "code",
      "metadata": {
        "id": "5hKnCayGlyd_"
      },
      "source": [
        "# launch ngrok\n",
        "get_ipython().system_raw('./ngrok http 8050 &')"
      ],
      "execution_count": 34,
      "outputs": []
    },
    {
      "cell_type": "code",
      "metadata": {
        "id": "UK2SIu8qsHPK",
        "colab": {
          "base_uri": "https://localhost:8080/"
        },
        "outputId": "030bdcde-e2db-4f5c-a260-2ad393894e96"
      },
      "source": [
        "%%sh\n",
        "# get url with ngrok\n",
        "curl -s http://localhost:4040/api/tunnels | python3 -c \"import sys, json; print(json.load(sys.stdin)['tunnels'][0]['public_url'])\""
      ],
      "execution_count": 35,
      "outputs": [
        {
          "output_type": "stream",
          "text": [
            "https://d57843602ae2.ngrok.io\n"
          ],
          "name": "stdout"
        }
      ]
    },
    {
      "cell_type": "code",
      "metadata": {
        "id": "ycoF8TVXjos6",
        "colab": {
          "base_uri": "https://localhost:8080/"
        },
        "outputId": "b45d5216-2473-491a-8259-367a4bc2bb4b"
      },
      "source": [
        "!python dash_app.py"
      ],
      "execution_count": 36,
      "outputs": [
        {
          "output_type": "stream",
          "text": [
            "Dash is running on http://127.0.0.1:8050/\n",
            "\n",
            " * Serving Flask app \"dash_app\" (lazy loading)\n",
            " * Environment: production\n",
            "\u001b[31m   WARNING: This is a development server. Do not use it in a production deployment.\u001b[0m\n",
            "\u001b[2m   Use a production WSGI server instead.\u001b[0m\n",
            " * Debug mode: on\n"
          ],
          "name": "stdout"
        }
      ]
    }
  ]
}